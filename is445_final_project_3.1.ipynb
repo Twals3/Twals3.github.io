{
 "cells": [
  {
   "cell_type": "code",
   "execution_count": 2,
   "id": "a81027a3",
   "metadata": {},
   "outputs": [
    {
     "ename": "ModuleNotFoundError",
     "evalue": "No module named 'pandas'",
     "output_type": "error",
     "traceback": [
      "\u001b[0;31m---------------------------------------------------------------------------\u001b[0m",
      "\u001b[0;31mModuleNotFoundError\u001b[0m                       Traceback (most recent call last)",
      "\u001b[0;32m/var/folders/6k/4514lrf96sj279tpkz5xb0gm0000gn/T/ipykernel_88430/3030860913.py\u001b[0m in \u001b[0;36m<module>\u001b[0;34m\u001b[0m\n\u001b[1;32m      1\u001b[0m \u001b[0;31m#git push test\u001b[0m\u001b[0;34m\u001b[0m\u001b[0;34m\u001b[0m\u001b[0m\n\u001b[1;32m      2\u001b[0m \u001b[0;34m\u001b[0m\u001b[0m\n\u001b[0;32m----> 3\u001b[0;31m \u001b[0;32mimport\u001b[0m \u001b[0mpandas\u001b[0m \u001b[0;32mas\u001b[0m \u001b[0mpd\u001b[0m\u001b[0;34m\u001b[0m\u001b[0;34m\u001b[0m\u001b[0m\n\u001b[0m\u001b[1;32m      4\u001b[0m \u001b[0;32mimport\u001b[0m \u001b[0mnumpy\u001b[0m \u001b[0;32mas\u001b[0m \u001b[0mnp\u001b[0m\u001b[0;34m\u001b[0m\u001b[0;34m\u001b[0m\u001b[0m\n\u001b[1;32m      5\u001b[0m \u001b[0;32mimport\u001b[0m \u001b[0mipywidgets\u001b[0m \u001b[0;32mas\u001b[0m \u001b[0mwidgets\u001b[0m\u001b[0;34m\u001b[0m\u001b[0;34m\u001b[0m\u001b[0m\n",
      "\u001b[0;31mModuleNotFoundError\u001b[0m: No module named 'pandas'"
     ]
    }
   ],
   "source": [
    "#git push test\n",
    "\n",
    "import pandas as pd\n",
    "import numpy as np\n",
    "import ipywidgets as widgets\n",
    "from IPython.display import display\n",
    "import matplotlib.pyplot as plt\n",
    "%matplotlib notebook\n",
    "\n",
    "df = pd.read_csv(\"nfloffenseweek9.csv\")\n",
    "\n",
    "fig, ax = plt.subplots()\n",
    "scatter = ax.scatter(df['rank'], df['points_scored'])\n",
    "ax.set_title('Rank Scatter Plot')\n",
    "ax.set_xlabel('Rank')\n",
    "ax.set_ylabel('points_scored')\n",
    "\n",
    "y_variable_widget = widgets.Dropdown(\n",
    "    options=df.columns[3:],\n",
    "    value='points_scored',\n",
    "    description='Y-axis Variable:'\n",
    ")\n",
    "\n",
    "def update_scatter_plot(y_variable):\n",
    "    scatter.set_offsets(df[['rank', y_variable]].values)\n",
    "    y_min, y_max = min(df[y_variable]), max(df[y_variable])\n",
    "    y_margin = 0.1 * (y_max - y_min)\n",
    "    ax.set_ylim(y_min - y_margin, y_max + y_margin)\n",
    "    ax.set_title('Rank by ' + y_variable)\n",
    "    ax.set_ylabel(y_variable)\n",
    "    fig.canvas.draw_idle()\n",
    "\n",
    "interactive_plot = widgets.interactive(update_scatter_plot, y_variable=y_variable_widget)\n",
    "plt.show()\n",
    "\n",
    "display(interactive_plot)"
   ]
  },
  {
   "cell_type": "code",
   "execution_count": null,
   "id": "5b6e90ac",
   "metadata": {},
   "outputs": [],
   "source": []
  }
 ],
 "metadata": {
  "kernelspec": {
   "display_name": "Python 3",
   "language": "python",
   "name": "python3"
  },
  "language_info": {
   "codemirror_mode": {
    "name": "ipython",
    "version": 3
   },
   "file_extension": ".py",
   "mimetype": "text/x-python",
   "name": "python",
   "nbconvert_exporter": "python",
   "pygments_lexer": "ipython3",
   "version": "3.9.9"
  }
 },
 "nbformat": 4,
 "nbformat_minor": 5
}
